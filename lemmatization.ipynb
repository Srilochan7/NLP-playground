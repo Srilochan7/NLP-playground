{
 "cells": [
  {
   "cell_type": "code",
   "execution_count": 4,
   "id": "1f1d735a-0991-45a5-82f4-ef840c8e4ee9",
   "metadata": {},
   "outputs": [],
   "source": [
    "from nltk.stem import WordNetLemmatizer"
   ]
  },
  {
   "cell_type": "code",
   "execution_count": 30,
   "id": "b75c683f-3470-4b68-b6ba-58094e514605",
   "metadata": {},
   "outputs": [
    {
     "name": "stderr",
     "output_type": "stream",
     "text": [
      "[nltk_data] Downloading package wordnet to\n",
      "[nltk_data]     C:\\Users\\kalak\\AppData\\Roaming\\nltk_data...\n",
      "[nltk_data] Downloading package omw-1.4 to\n",
      "[nltk_data]     C:\\Users\\kalak\\AppData\\Roaming\\nltk_data...\n"
     ]
    },
    {
     "data": {
      "text/plain": [
       "True"
      ]
     },
     "execution_count": 30,
     "metadata": {},
     "output_type": "execute_result"
    }
   ],
   "source": [
    "import nltk\n",
    "nltk.download('wordnet')        # Core lemmatizer dictionary\n",
    "nltk.download('omw-1.4')        # Optional, for better lemmatization\n"
   ]
  },
  {
   "cell_type": "code",
   "execution_count": 34,
   "id": "bab43988-57ae-425a-963b-4d24e1d5653a",
   "metadata": {},
   "outputs": [],
   "source": [
    "lemmatizer = WordNetLemmatizer()"
   ]
  },
  {
   "cell_type": "code",
   "execution_count": 36,
   "id": "0bc66b8a-d93a-4aab-970d-e22b920c9858",
   "metadata": {},
   "outputs": [],
   "source": [
    "words = [\n",
    "    \"running\", \"ran\", \"eaten\", \"eating\", \"flies\", \"flying\", \"went\", \"going\",\n",
    "    \"was\", \"is\", \"cars\", \"children\", \"geese\", \"mice\", \"feet\", \"teeth\", \"leaves\",\n",
    "    \"better\", \"best\", \"worse\", \"faster\", \"slowest\", \"happier\", \"more beautiful\"\n",
    "]\n"
   ]
  },
  {
   "cell_type": "code",
   "execution_count": 38,
   "id": "a06ff85a-0c63-4736-91ae-2b7be3f1769c",
   "metadata": {},
   "outputs": [
    {
     "data": {
      "text/plain": [
       "['running',\n",
       " 'ran',\n",
       " 'eaten',\n",
       " 'eating',\n",
       " 'flies',\n",
       " 'flying',\n",
       " 'went',\n",
       " 'going',\n",
       " 'was',\n",
       " 'is',\n",
       " 'cars',\n",
       " 'children',\n",
       " 'geese',\n",
       " 'mice',\n",
       " 'feet',\n",
       " 'teeth',\n",
       " 'leaves',\n",
       " 'better',\n",
       " 'best',\n",
       " 'worse',\n",
       " 'faster',\n",
       " 'slowest',\n",
       " 'happier',\n",
       " 'more beautiful']"
      ]
     },
     "execution_count": 38,
     "metadata": {},
     "output_type": "execute_result"
    }
   ],
   "source": [
    "words"
   ]
  },
  {
   "cell_type": "code",
   "execution_count": 40,
   "id": "138d8fd2-a125-4352-8e5a-5fc5ebd3309e",
   "metadata": {},
   "outputs": [
    {
     "name": "stdout",
     "output_type": "stream",
     "text": [
      "running-->run\n",
      "ran-->run\n",
      "eaten-->eat\n",
      "eating-->eat\n",
      "flies-->fly\n",
      "flying-->fly\n",
      "went-->go\n",
      "going-->go\n",
      "was-->be\n",
      "is-->be\n",
      "cars-->cars\n",
      "children-->children\n",
      "geese-->geese\n",
      "mice-->mice\n",
      "feet-->feet\n",
      "teeth-->teeth\n",
      "leaves-->leave\n",
      "better-->better\n",
      "best-->best\n",
      "worse-->worse\n",
      "faster-->faster\n",
      "slowest-->slowest\n",
      "happier-->happier\n",
      "more beautiful-->more beautiful\n"
     ]
    }
   ],
   "source": [
    "for word in words:\n",
    "    print(word + \"-->\" + lemmatizer.lemmatize(word, pos='v'))"
   ]
  },
  {
   "cell_type": "code",
   "execution_count": 42,
   "id": "aae3c7a1-a39f-470a-b5fc-b638f73b9804",
   "metadata": {},
   "outputs": [
    {
     "data": {
      "text/plain": [
       "'going'"
      ]
     },
     "execution_count": 42,
     "metadata": {},
     "output_type": "execute_result"
    }
   ],
   "source": [
    "lemmatizer.lemmatize('going')"
   ]
  },
  {
   "cell_type": "code",
   "execution_count": null,
   "id": "6a78043f-f9c1-482f-a360-5296da0ad0cf",
   "metadata": {},
   "outputs": [],
   "source": []
  },
  {
   "cell_type": "code",
   "execution_count": null,
   "id": "b2153ed1-ddb6-4e89-8795-c20007e65bf6",
   "metadata": {},
   "outputs": [],
   "source": []
  },
  {
   "cell_type": "code",
   "execution_count": null,
   "id": "1685cfd2-2009-4b53-9a71-f1c2769f798e",
   "metadata": {},
   "outputs": [],
   "source": []
  },
  {
   "cell_type": "code",
   "execution_count": null,
   "id": "e207b720-055b-475b-ab00-7efd562fac58",
   "metadata": {},
   "outputs": [],
   "source": []
  }
 ],
 "metadata": {
  "kernelspec": {
   "display_name": "Python 3 (ipykernel)",
   "language": "python",
   "name": "python3"
  },
  "language_info": {
   "codemirror_mode": {
    "name": "ipython",
    "version": 3
   },
   "file_extension": ".py",
   "mimetype": "text/x-python",
   "name": "python",
   "nbconvert_exporter": "python",
   "pygments_lexer": "ipython3",
   "version": "3.12.4"
  }
 },
 "nbformat": 4,
 "nbformat_minor": 5
}
