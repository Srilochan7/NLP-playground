{
 "cells": [
  {
   "cell_type": "code",
   "execution_count": 1,
   "id": "514a5291-1a9e-41e6-84e5-1596a81ec2c7",
   "metadata": {},
   "outputs": [],
   "source": [
    "sentence = \"\"\"On March 15, 2023, John D. Williams received an official letter from the World Health Organization (WHO) regarding a $25,000 research grant for his project on infectious diseases. The letter, marked with reference ID WHO-GRNT-7842, stated that the funds would be released by April 1, 2023, to his account at Citibank. Dr. Williams, based in New York, was selected among 120 candidates worldwide. His assistant, Emily Zhang, confirmed the receipt of the funds via email on April 3. The project, titled \"Viral Outbreak Response Strategy,\" is scheduled to begin on May 10 and run for a duration of 18 months.\"\"\""
   ]
  },
  {
   "cell_type": "code",
   "execution_count": 28,
   "id": "8d2a5f83-2e51-4ae8-bbb0-1c441e9b3027",
   "metadata": {},
   "outputs": [
    {
     "name": "stderr",
     "output_type": "stream",
     "text": [
      "[nltk_data] Downloading package maxent_ne_chunker to\n",
      "[nltk_data]     C:\\Users\\kalak\\AppData\\Roaming\\nltk_data...\n",
      "[nltk_data]   Package maxent_ne_chunker is already up-to-date!\n",
      "[nltk_data] Downloading package words to\n",
      "[nltk_data]     C:\\Users\\kalak\\AppData\\Roaming\\nltk_data...\n",
      "[nltk_data]   Unzipping corpora\\words.zip.\n"
     ]
    },
    {
     "data": {
      "text/plain": [
       "True"
      ]
     },
     "execution_count": 28,
     "metadata": {},
     "output_type": "execute_result"
    }
   ],
   "source": [
    "import nltk\n",
    "nltk.download('maxent_ne_chunker')\n",
    "nltk.download('words')"
   ]
  },
  {
   "cell_type": "code",
   "execution_count": 30,
   "id": "d71a8b85-6c12-441e-8e1e-57e33dfd88b6",
   "metadata": {},
   "outputs": [],
   "source": [
    "words = nltk.word_tokenize(sentence)"
   ]
  },
  {
   "cell_type": "code",
   "execution_count": 32,
   "id": "1a7cdb4c-ad31-4b31-b2af-67efdeffa6c0",
   "metadata": {},
   "outputs": [],
   "source": [
    "tag_elements = nltk.pos_tag(words)"
   ]
  },
  {
   "cell_type": "code",
   "execution_count": 36,
   "id": "10c49108-c67d-44c3-90e4-e4ff2990b9dd",
   "metadata": {},
   "outputs": [],
   "source": [
    "nltk.ne_chunk(tag_elements).draw()"
   ]
  },
  {
   "cell_type": "code",
   "execution_count": null,
   "id": "cdfe8649-cf38-4c4d-8406-0d88c981afb7",
   "metadata": {},
   "outputs": [],
   "source": []
  },
  {
   "cell_type": "code",
   "execution_count": null,
   "id": "928e58fb-5987-4aa9-a854-61ad692a30c8",
   "metadata": {},
   "outputs": [],
   "source": []
  }
 ],
 "metadata": {
  "kernelspec": {
   "display_name": "Python 3 (ipykernel)",
   "language": "python",
   "name": "python3"
  },
  "language_info": {
   "codemirror_mode": {
    "name": "ipython",
    "version": 3
   },
   "file_extension": ".py",
   "mimetype": "text/x-python",
   "name": "python",
   "nbconvert_exporter": "python",
   "pygments_lexer": "ipython3",
   "version": "3.12.4"
  }
 },
 "nbformat": 4,
 "nbformat_minor": 5
}
