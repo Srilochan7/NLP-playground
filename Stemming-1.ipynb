{
 "cells": [
  {
   "cell_type": "code",
   "execution_count": 1,
   "id": "e550dbaa-7b77-4334-9f87-8f6de9853e83",
   "metadata": {},
   "outputs": [],
   "source": [
    "import nltk"
   ]
  },
  {
   "cell_type": "code",
   "execution_count": 3,
   "id": "99cbba46-36d0-4550-8a75-4ce1336cc04d",
   "metadata": {},
   "outputs": [],
   "source": [
    "words = [\n",
    "    \"running\", \"runner\", \"runs\", \n",
    "    \"easily\", \"fairly\", \n",
    "    \"happiness\", \"unhappy\", \n",
    "    \"played\", \"playing\", \"plays\", \n",
    "    \"studies\", \"studying\", \"studied\", \n",
    "    \"flies\", \"flying\", \"flew\", \n",
    "    \"denied\", \"denies\", \"denying\", \n",
    "    \"relational\", \"conditional\", \n",
    "    \"organization\", \"organize\", \"organizing\"\n",
    "]"
   ]
  },
  {
   "cell_type": "code",
   "execution_count": 5,
   "id": "640c43b4-97ef-4b10-839e-e0aec3808321",
   "metadata": {},
   "outputs": [
    {
     "data": {
      "text/plain": [
       "['running',\n",
       " 'runner',\n",
       " 'runs',\n",
       " 'easily',\n",
       " 'fairly',\n",
       " 'happiness',\n",
       " 'unhappy',\n",
       " 'played',\n",
       " 'playing',\n",
       " 'plays',\n",
       " 'studies',\n",
       " 'studying',\n",
       " 'studied',\n",
       " 'flies',\n",
       " 'flying',\n",
       " 'flew',\n",
       " 'denied',\n",
       " 'denies',\n",
       " 'denying',\n",
       " 'relational',\n",
       " 'conditional',\n",
       " 'organization',\n",
       " 'organize',\n",
       " 'organizing']"
      ]
     },
     "execution_count": 5,
     "metadata": {},
     "output_type": "execute_result"
    }
   ],
   "source": [
    "words"
   ]
  },
  {
   "cell_type": "code",
   "execution_count": 7,
   "id": "8ff6ece7-87eb-4456-83e7-dfb6765becff",
   "metadata": {},
   "outputs": [],
   "source": [
    "from nltk.stem import PorterStemmer"
   ]
  },
  {
   "cell_type": "raw",
   "id": "ed9fe9d3-63c0-4d1b-b127-3e24ba3122de",
   "metadata": {},
   "source": [
    "### POrter Stemmer"
   ]
  },
  {
   "cell_type": "code",
   "execution_count": 13,
   "id": "0c5589e5-b6bc-47ee-86d1-f7dca3ebf926",
   "metadata": {},
   "outputs": [],
   "source": [
    "stemming = PorterStemmer()"
   ]
  },
  {
   "cell_type": "code",
   "execution_count": 15,
   "id": "65475563-c9e1-4c9c-8581-012c8213ff37",
   "metadata": {},
   "outputs": [
    {
     "name": "stdout",
     "output_type": "stream",
     "text": [
      "running-->run\n",
      "runner-->runner\n",
      "runs-->run\n",
      "easily-->easili\n",
      "fairly-->fairli\n",
      "happiness-->happi\n",
      "unhappy-->unhappi\n",
      "played-->play\n",
      "playing-->play\n",
      "plays-->play\n",
      "studies-->studi\n",
      "studying-->studi\n",
      "studied-->studi\n",
      "flies-->fli\n",
      "flying-->fli\n",
      "flew-->flew\n",
      "denied-->deni\n",
      "denies-->deni\n",
      "denying-->deni\n",
      "relational-->relat\n",
      "conditional-->condit\n",
      "organization-->organ\n",
      "organize-->organ\n",
      "organizing-->organ\n"
     ]
    }
   ],
   "source": [
    "for word in words:\n",
    "    print(word + \"-->\" + stemming.stem(word))"
   ]
  },
  {
   "cell_type": "raw",
   "id": "aad031c8-f8a0-42fa-a5cc-e5d2b2de097e",
   "metadata": {},
   "source": [
    "### RegEx Stemmer ALog"
   ]
  },
  {
   "cell_type": "code",
   "execution_count": 27,
   "id": "ced205ea-6e26-4c63-9726-593970a01adf",
   "metadata": {},
   "outputs": [],
   "source": [
    "from nltk.stem import RegexpStemmer"
   ]
  },
  {
   "cell_type": "code",
   "execution_count": 29,
   "id": "c6902b9c-92f8-49a6-a0a8-70b7fe997258",
   "metadata": {},
   "outputs": [],
   "source": [
    "reg_stemmer = RegexpStemmer('ing$|s$|able$|e$')"
   ]
  },
  {
   "cell_type": "code",
   "execution_count": 33,
   "id": "40268e33-b6f7-4efb-909b-4771ce9ccd9f",
   "metadata": {},
   "outputs": [
    {
     "data": {
      "text/plain": [
       "'eat'"
      ]
     },
     "execution_count": 33,
     "metadata": {},
     "output_type": "execute_result"
    }
   ],
   "source": [
    "reg_stemmer.stem('eating')"
   ]
  },
  {
   "cell_type": "code",
   "execution_count": 35,
   "id": "200d167e-aa0a-4e2f-b7fb-736ee4cfd2d3",
   "metadata": {},
   "outputs": [],
   "source": [
    "wordS = [\n",
    "    \"running\",    # → run\n",
    "    \"makes\",      # → mak\n",
    "    \"readable\",   # → read\n",
    "    \"hope\",       # → hop\n",
    "    \"cats\",       # → cat\n",
    "    \"lovable\",    # → lov\n",
    "    \"dance\",      # → danc\n",
    "    \"jogging\",    # → jogg\n",
    "    \"reliable\",   # → reli\n",
    "    \"bikes\",      # → bike → bik\n",
    "    \"coding\",     # → cod\n",
    "]"
   ]
  },
  {
   "cell_type": "code",
   "execution_count": 37,
   "id": "0731ff9e-cad5-4092-9fd9-7013891b3dac",
   "metadata": {},
   "outputs": [
    {
     "data": {
      "text/plain": [
       "['running',\n",
       " 'makes',\n",
       " 'readable',\n",
       " 'hope',\n",
       " 'cats',\n",
       " 'lovable',\n",
       " 'dance',\n",
       " 'jogging',\n",
       " 'reliable',\n",
       " 'bikes',\n",
       " 'coding']"
      ]
     },
     "execution_count": 37,
     "metadata": {},
     "output_type": "execute_result"
    }
   ],
   "source": [
    "wordS"
   ]
  },
  {
   "cell_type": "code",
   "execution_count": 43,
   "id": "0ebd6ba7-2013-481b-89cd-198910a61d73",
   "metadata": {},
   "outputs": [
    {
     "name": "stdout",
     "output_type": "stream",
     "text": [
      "running-->runn\n",
      "makes-->make\n",
      "readable-->read\n",
      "hope-->hop\n",
      "cats-->cat\n",
      "lovable-->lov\n",
      "dance-->danc\n",
      "jogging-->jogg\n",
      "reliable-->reli\n",
      "bikes-->bike\n",
      "coding-->cod\n"
     ]
    }
   ],
   "source": [
    "for w in wordS:\n",
    "    print(w + \"-->\" + reg_stemmer.stem(w))"
   ]
  },
  {
   "cell_type": "markdown",
   "id": "c6c1346d-9723-4450-80ae-c316301874bd",
   "metadata": {},
   "source": [
    "SNowball Stemmer"
   ]
  },
  {
   "cell_type": "code",
   "execution_count": 45,
   "id": "e465ae64-7d6c-4f6c-a5c2-04ba7a7a89e6",
   "metadata": {},
   "outputs": [],
   "source": [
    "from nltk.stem import SnowballStemmer"
   ]
  },
  {
   "cell_type": "code",
   "execution_count": 49,
   "id": "1693027c-f1e9-421e-b8ac-c9f1d6348b32",
   "metadata": {},
   "outputs": [],
   "source": [
    "sbs = SnowballStemmer('english')"
   ]
  },
  {
   "cell_type": "code",
   "execution_count": 51,
   "id": "63384cc7-b1d4-475a-a579-9d9d4f70beb2",
   "metadata": {},
   "outputs": [
    {
     "name": "stdout",
     "output_type": "stream",
     "text": [
      "organizing-->run\n",
      "organizing-->make\n",
      "organizing-->readabl\n",
      "organizing-->hope\n",
      "organizing-->cat\n",
      "organizing-->lovabl\n",
      "organizing-->danc\n",
      "organizing-->jog\n",
      "organizing-->reliabl\n",
      "organizing-->bike\n",
      "organizing-->code\n"
     ]
    }
   ],
   "source": [
    "for w in wordS:\n",
    "    print(word + \"-->\" + sbs.stem(w))"
   ]
  },
  {
   "cell_type": "code",
   "execution_count": 53,
   "id": "76bcaa42-e8cf-4a30-92a0-2d4990e124eb",
   "metadata": {},
   "outputs": [],
   "source": [
    "list = [\n",
    "    \"running\",    # → run\n",
    "    \"makes\",      # → mak\n",
    "    \"readable\",   # → read\n",
    "    \"hope\",       # → hop\n",
    "    \"cats\",       # → cat\n",
    "    \"lovable\",    # → lov\n",
    "    \"dance\",      # → danc\n",
    "    \"jogging\",    # → jogg\n",
    "    \"reliable\",   # → reli\n",
    "    \"bikes\",      # → bike → bik\n",
    "    \"coding\",     # → cod\n",
    "]"
   ]
  },
  {
   "cell_type": "code",
   "execution_count": 55,
   "id": "563deb9c-874a-4068-86b8-07faa17c8431",
   "metadata": {},
   "outputs": [
    {
     "data": {
      "text/plain": [
       "['running',\n",
       " 'makes',\n",
       " 'readable',\n",
       " 'hope',\n",
       " 'cats',\n",
       " 'lovable',\n",
       " 'dance',\n",
       " 'jogging',\n",
       " 'reliable',\n",
       " 'bikes',\n",
       " 'coding']"
      ]
     },
     "execution_count": 55,
     "metadata": {},
     "output_type": "execute_result"
    }
   ],
   "source": [
    "list"
   ]
  },
  {
   "cell_type": "code",
   "execution_count": 57,
   "id": "01d46642-65ad-4cc7-9555-796629604411",
   "metadata": {},
   "outputs": [
    {
     "name": "stdout",
     "output_type": "stream",
     "text": [
      "running-->run\n",
      "makes-->make\n",
      "readable-->readabl\n",
      "hope-->hope\n",
      "cats-->cat\n",
      "lovable-->lovabl\n",
      "dance-->danc\n",
      "jogging-->jog\n",
      "reliable-->reliabl\n",
      "bikes-->bike\n",
      "coding-->code\n"
     ]
    }
   ],
   "source": [
    "for l in list:\n",
    "    print(l + \"-->\" + sbs.stem(l))"
   ]
  },
  {
   "cell_type": "code",
   "execution_count": null,
   "id": "c998715b-9cea-4ab0-b4a0-239b8e31950d",
   "metadata": {},
   "outputs": [],
   "source": []
  }
 ],
 "metadata": {
  "kernelspec": {
   "display_name": "Python 3 (ipykernel)",
   "language": "python",
   "name": "python3"
  },
  "language_info": {
   "codemirror_mode": {
    "name": "ipython",
    "version": 3
   },
   "file_extension": ".py",
   "mimetype": "text/x-python",
   "name": "python",
   "nbconvert_exporter": "python",
   "pygments_lexer": "ipython3",
   "version": "3.12.4"
  }
 },
 "nbformat": 4,
 "nbformat_minor": 5
}
