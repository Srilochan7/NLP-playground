{
 "cells": [
  {
   "cell_type": "code",
   "execution_count": 3,
   "id": "e03fc612-2dad-4193-b1d5-b1eb164e3bd6",
   "metadata": {},
   "outputs": [
    {
     "name": "stdout",
     "output_type": "stream",
     "text": [
      "Requirement already satisfied: nltk in c:\\users\\kalak\\anaconda3\\lib\\site-packages (3.8.1)\n",
      "Requirement already satisfied: click in c:\\users\\kalak\\anaconda3\\lib\\site-packages (from nltk) (8.1.7)\n",
      "Requirement already satisfied: joblib in c:\\users\\kalak\\anaconda3\\lib\\site-packages (from nltk) (1.4.2)\n",
      "Requirement already satisfied: regex>=2021.8.3 in c:\\users\\kalak\\anaconda3\\lib\\site-packages (from nltk) (2023.10.3)\n",
      "Requirement already satisfied: tqdm in c:\\users\\kalak\\anaconda3\\lib\\site-packages (from nltk) (4.66.4)\n",
      "Requirement already satisfied: colorama in c:\\users\\kalak\\anaconda3\\lib\\site-packages (from click->nltk) (0.4.6)\n"
     ]
    }
   ],
   "source": [
    "!pip install nltk"
   ]
  },
  {
   "cell_type": "code",
   "execution_count": 7,
   "id": "84a4265b-08cf-4ba7-a68d-f67d6ddccc3c",
   "metadata": {},
   "outputs": [],
   "source": [
    "corpus = \"\"\"Hey there! How's it going? :) I'm learning NLP, Python, & AI @night.\"\"\"\n"
   ]
  },
  {
   "cell_type": "code",
   "execution_count": 9,
   "id": "576f028f-6cf1-4c67-bc98-e0bdb048e23a",
   "metadata": {},
   "outputs": [
    {
     "data": {
      "text/plain": [
       "\"Hey there! How's it going? :) I'm learning NLP, Python, & AI @night.\""
      ]
     },
     "execution_count": 9,
     "metadata": {},
     "output_type": "execute_result"
    }
   ],
   "source": [
    "corpus"
   ]
  },
  {
   "cell_type": "code",
   "execution_count": 73,
   "id": "62c1f915-57c9-4fc9-89d0-82a8f897edc4",
   "metadata": {},
   "outputs": [
    {
     "name": "stderr",
     "output_type": "stream",
     "text": [
      "[nltk_data] Downloading package punkt to\n",
      "[nltk_data]     C:\\Users\\kalak\\AppData\\Roaming\\nltk_data...\n",
      "[nltk_data]   Package punkt is already up-to-date!\n"
     ]
    },
    {
     "data": {
      "text/plain": [
       "True"
      ]
     },
     "execution_count": 73,
     "metadata": {},
     "output_type": "execute_result"
    }
   ],
   "source": [
    "import nltk\n",
    "nltk.download('punkt')"
   ]
  },
  {
   "cell_type": "code",
   "execution_count": 23,
   "id": "abdfc382-c216-4e3b-a7c8-c01718dfa995",
   "metadata": {},
   "outputs": [],
   "source": [
    "from nltk.tokenize import sent_tokenize"
   ]
  },
  {
   "cell_type": "code",
   "execution_count": null,
   "id": "a774ed47-f5be-4d0f-a7ab-ceb56c566fd1",
   "metadata": {},
   "outputs": [],
   "source": [
    "# it creates sentence into a list items"
   ]
  },
  {
   "cell_type": "code",
   "execution_count": 29,
   "id": "9c338542-b9a5-4597-ad17-5da346d6431a",
   "metadata": {},
   "outputs": [],
   "source": [
    "documents = sent_tokenize(corpus)"
   ]
  },
  {
   "cell_type": "code",
   "execution_count": 31,
   "id": "3e87b632-f3c8-44c7-ae98-165cf466ed59",
   "metadata": {},
   "outputs": [
    {
     "data": {
      "text/plain": [
       "list"
      ]
     },
     "execution_count": 31,
     "metadata": {},
     "output_type": "execute_result"
    }
   ],
   "source": [
    "type(documents)"
   ]
  },
  {
   "cell_type": "code",
   "execution_count": 33,
   "id": "d0f31443-75f7-468b-8ef7-0fe63e448501",
   "metadata": {},
   "outputs": [],
   "source": [
    "# sentenxe -> words"
   ]
  },
  {
   "cell_type": "code",
   "execution_count": 35,
   "id": "4316c275-d5e7-43e5-97ee-7c1d42ed330c",
   "metadata": {},
   "outputs": [],
   "source": [
    "from nltk.tokenize import word_tokenize\n"
   ]
  },
  {
   "cell_type": "code",
   "execution_count": null,
   "id": "655b899a-bc76-4708-ac32-d8aa76465763",
   "metadata": {},
   "outputs": [],
   "source": [
    "# convwerts into words"
   ]
  },
  {
   "cell_type": "code",
   "execution_count": 41,
   "id": "0526873e-dcaa-4234-802d-d9b0deab1449",
   "metadata": {},
   "outputs": [],
   "source": [
    "words = word_tokenize(corpus)"
   ]
  },
  {
   "cell_type": "code",
   "execution_count": 43,
   "id": "4d46bbb8-1117-4695-ac91-cf11dd04f304",
   "metadata": {},
   "outputs": [
    {
     "data": {
      "text/plain": [
       "['Hey',\n",
       " 'there',\n",
       " '!',\n",
       " 'How',\n",
       " \"'s\",\n",
       " 'it',\n",
       " 'going',\n",
       " '?',\n",
       " ':',\n",
       " ')',\n",
       " 'I',\n",
       " \"'m\",\n",
       " 'learning',\n",
       " 'NLP',\n",
       " ',',\n",
       " 'Python',\n",
       " ',',\n",
       " '&',\n",
       " 'AI',\n",
       " '@',\n",
       " 'night',\n",
       " '.']"
      ]
     },
     "execution_count": 43,
     "metadata": {},
     "output_type": "execute_result"
    }
   ],
   "source": [
    "words"
   ]
  },
  {
   "cell_type": "code",
   "execution_count": 47,
   "id": "ef56cd86-7926-4438-aefb-6ae4fe003c5e",
   "metadata": {},
   "outputs": [],
   "source": [
    "from nltk.tokenize import wordpunct_tokenize"
   ]
  },
  {
   "cell_type": "code",
   "execution_count": 49,
   "id": "787548ab-ad8f-4472-9bba-3c8ce525afdf",
   "metadata": {},
   "outputs": [
    {
     "data": {
      "text/plain": [
       "['Hey',\n",
       " 'there',\n",
       " '!',\n",
       " 'How',\n",
       " \"'\",\n",
       " 's',\n",
       " 'it',\n",
       " 'going',\n",
       " '?',\n",
       " ':)',\n",
       " 'I',\n",
       " \"'\",\n",
       " 'm',\n",
       " 'learning',\n",
       " 'NLP',\n",
       " ',',\n",
       " 'Python',\n",
       " ',',\n",
       " '&',\n",
       " 'AI',\n",
       " '@',\n",
       " 'night',\n",
       " '.']"
      ]
     },
     "execution_count": 49,
     "metadata": {},
     "output_type": "execute_result"
    }
   ],
   "source": [
    "wordpunct_tokenize(corpus)"
   ]
  },
  {
   "cell_type": "code",
   "execution_count": 57,
   "id": "4c082804-2036-4bc3-aece-d1e1197a5b59",
   "metadata": {},
   "outputs": [],
   "source": [
    "from nltk.tokenize.treebank import TreebankWordTokenizer"
   ]
  },
  {
   "cell_type": "code",
   "execution_count": 69,
   "id": "69535ccd-46d0-4da8-8274-9fb2d98cd99a",
   "metadata": {},
   "outputs": [],
   "source": [
    "tokenizer = TreebankWordTokenizer()\n",
    "corpus = \"I'm testing this tokenizer. It's splitting words correctly!\"\n",
    "t = tokenizer.tokenize(corpus)"
   ]
  },
  {
   "cell_type": "code",
   "execution_count": 71,
   "id": "0b61d802-da89-4ae4-90b0-304275c3f3e9",
   "metadata": {},
   "outputs": [
    {
     "data": {
      "text/plain": [
       "['I',\n",
       " \"'m\",\n",
       " 'testing',\n",
       " 'this',\n",
       " 'tokenizer.',\n",
       " 'It',\n",
       " \"'s\",\n",
       " 'splitting',\n",
       " 'words',\n",
       " 'correctly',\n",
       " '!']"
      ]
     },
     "execution_count": 71,
     "metadata": {},
     "output_type": "execute_result"
    }
   ],
   "source": [
    "t"
   ]
  },
  {
   "cell_type": "code",
   "execution_count": null,
   "id": "d6958f67-95b0-41dd-8373-db77cb8f4343",
   "metadata": {},
   "outputs": [],
   "source": []
  }
 ],
 "metadata": {
  "kernelspec": {
   "display_name": "Python 3 (ipykernel)",
   "language": "python",
   "name": "python3"
  },
  "language_info": {
   "codemirror_mode": {
    "name": "ipython",
    "version": 3
   },
   "file_extension": ".py",
   "mimetype": "text/x-python",
   "name": "python",
   "nbconvert_exporter": "python",
   "pygments_lexer": "ipython3",
   "version": "3.12.4"
  }
 },
 "nbformat": 4,
 "nbformat_minor": 5
}
