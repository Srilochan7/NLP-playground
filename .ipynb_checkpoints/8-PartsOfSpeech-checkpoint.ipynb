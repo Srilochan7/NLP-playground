{
 "cells": [
  {
   "cell_type": "code",
   "execution_count": 1,
   "id": "e8895a12-f36a-4058-8ecf-f515c9a65f85",
   "metadata": {},
   "outputs": [],
   "source": [
    "speech = \"\"\"Life is a journey filled with challenges and opportunities. Every setback is a setup for a greater comeback. You have the power to shape your \n",
    "future with every decision you make today. Success isn’t about perfection; it’s about persistence.Don’t wait for the perfect moment—create it.\n",
    "Believe in your vision, trust your process, and never be afraid to fail. Growth comes from struggle, and champions are made in the shadows.\n",
    "Keep pushing forward, even when it’s tough. One step at a time, one day at a time, you’ll reach your goals. Stay focused, stay hungry, and never \n",
    "stop dreaming.\"\"\""
   ]
  },
  {
   "cell_type": "code",
   "execution_count": 3,
   "id": "055b3f10-320c-45bf-8fb1-91a83a6e892a",
   "metadata": {},
   "outputs": [
    {
     "data": {
      "text/plain": [
       "'Life is a journey filled with challenges and opportunities. Every setback is a setup for a greater comeback. You have the power to shape your \\nfuture with every decision you make today. Success isn’t about perfection; it’s about persistence.Don’t wait for the perfect moment—create it.\\nBelieve in your vision, trust your process, and never be afraid to fail. Growth comes from struggle, and champions are made in the shadows.\\nKeep pushing forward, even when it’s tough. One step at a time, one day at a time, you’ll reach your goals. Stay focused, stay hungry, and never \\nstop dreaming.'"
      ]
     },
     "execution_count": 3,
     "metadata": {},
     "output_type": "execute_result"
    }
   ],
   "source": [
    "speech"
   ]
  },
  {
   "cell_type": "code",
   "execution_count": 15,
   "id": "f69a6f32-70d0-4f10-9fe1-364cc4e24615",
   "metadata": {},
   "outputs": [
    {
     "name": "stderr",
     "output_type": "stream",
     "text": [
      "[nltk_data] Downloading package averaged_perceptron_tagger to\n",
      "[nltk_data]     C:\\Users\\kalak\\AppData\\Roaming\\nltk_data...\n",
      "[nltk_data]   Unzipping taggers\\averaged_perceptron_tagger.zip.\n"
     ]
    }
   ],
   "source": [
    "import nltk\n",
    "nltk.download('averaged_perceptron_tagger')\n",
    "sentences = nltk.sent_tokenize(speech)"
   ]
  },
  {
   "cell_type": "code",
   "execution_count": 16,
   "id": "2792d0d4-a798-433a-b960-31c0203052f4",
   "metadata": {},
   "outputs": [],
   "source": [
    "from nltk.corpus import stopwords"
   ]
  },
  {
   "cell_type": "code",
   "execution_count": 23,
   "id": "a81ac78b-87ce-491f-a36c-a5a8c34bdf33",
   "metadata": {},
   "outputs": [],
   "source": [
    "for i in range (len(sentences)):\n",
    "    words = nltk.word_tokenize(sentences[i])\n",
    "    words = [word for word in words if word not in set(stopwords.words())]\n",
    "    t = nltk.pos_tag(words)\n",
    "    "
   ]
  },
  {
   "cell_type": "code",
   "execution_count": 25,
   "id": "78a5f99e-dab6-4d51-803a-7d6550bb43ce",
   "metadata": {},
   "outputs": [
    {
     "data": {
      "text/plain": [
       "[('Stay', 'NNP'),\n",
       " ('focused', 'VBD'),\n",
       " (',', ','),\n",
       " ('stay', 'VB'),\n",
       " ('hungry', 'JJ'),\n",
       " (',', ','),\n",
       " ('stop', 'JJ'),\n",
       " ('dreaming', 'NN'),\n",
       " ('.', '.')]"
      ]
     },
     "execution_count": 25,
     "metadata": {},
     "output_type": "execute_result"
    }
   ],
   "source": [
    "t"
   ]
  },
  {
   "cell_type": "code",
   "execution_count": 31,
   "id": "38de7387-54d6-44de-9ca3-ea99ad3f50cd",
   "metadata": {},
   "outputs": [
    {
     "name": "stdout",
     "output_type": "stream",
     "text": [
      "[('Lochan', 'NNP'), ('is', 'VBZ'), ('handsome', 'JJ'), ('guy', 'NN')]\n"
     ]
    }
   ],
   "source": [
    "print(nltk.pos_tag(\"Lochan is handsome guy\".split()))"
   ]
  },
  {
   "cell_type": "code",
   "execution_count": null,
   "id": "9f6fb50c-c64f-4819-8a27-833e96ad1144",
   "metadata": {},
   "outputs": [],
   "source": []
  }
 ],
 "metadata": {
  "kernelspec": {
   "display_name": "Python 3 (ipykernel)",
   "language": "python",
   "name": "python3"
  },
  "language_info": {
   "codemirror_mode": {
    "name": "ipython",
    "version": 3
   },
   "file_extension": ".py",
   "mimetype": "text/x-python",
   "name": "python",
   "nbconvert_exporter": "python",
   "pygments_lexer": "ipython3",
   "version": "3.12.4"
  }
 },
 "nbformat": 4,
 "nbformat_minor": 5
}
